{
  "nbformat": 4,
  "nbformat_minor": 0,
  "metadata": {
    "colab": {
      "name": "Untitled1.ipynb",
      "provenance": [],
      "authorship_tag": "ABX9TyMeDiSmgfftoTJKKB8zAe+7",
      "include_colab_link": true
    },
    "kernelspec": {
      "name": "python3",
      "display_name": "Python 3"
    },
    "language_info": {
      "name": "python"
    }
  },
  "cells": [
    {
      "cell_type": "markdown",
      "metadata": {
        "id": "view-in-github",
        "colab_type": "text"
      },
      "source": [
        "<a href=\"https://colab.research.google.com/github/Raghuramvd/ML-gold-pred/blob/main/gold_silver.ipynb\" target=\"_parent\"><img src=\"https://colab.research.google.com/assets/colab-badge.svg\" alt=\"Open In Colab\"/></a>"
      ]
    },
    {
      "cell_type": "markdown",
      "metadata": {
        "id": "xrV34Can6fbf"
      },
      "source": [
        "Importing libraries"
      ]
    },
    {
      "cell_type": "code",
      "metadata": {
        "id": "9zQRQN1F6KSN"
      },
      "source": [
        "import numpy as np\n",
        "import pandas as pd\n",
        "import matplotlib.pyplot as plt\n",
        "import seaborn as sns\n",
        "from sklearn.model_selection import train_test_split\n",
        "from sklearn.ensemble import RandomForestRegressor\n",
        "from sklearn import metrics"
      ],
      "execution_count": 2,
      "outputs": []
    },
    {
      "cell_type": "markdown",
      "metadata": {
        "id": "cl0rH0Mq9t0m"
      },
      "source": [
        "Data collection and processing\n"
      ]
    },
    {
      "cell_type": "code",
      "metadata": {
        "id": "DWyKQ13g9sbF"
      },
      "source": [
        "#loading csv to pandas data frame\n",
        "gold_data = pd.read_csv('//content/gld_price_data.csv')"
      ],
      "execution_count": 3,
      "outputs": []
    },
    {
      "cell_type": "code",
      "metadata": {
        "colab": {
          "base_uri": "https://localhost:8080/",
          "height": 206
        },
        "id": "5KvjIdpH-DGb",
        "outputId": "eff227f4-53b9-4c75-ec54-b1cc01bd074b"
      },
      "source": [
        "#print first five rows\n",
        "gold_data.head()"
      ],
      "execution_count": 4,
      "outputs": [
        {
          "output_type": "execute_result",
          "data": {
            "text/html": [
              "<div>\n",
              "<style scoped>\n",
              "    .dataframe tbody tr th:only-of-type {\n",
              "        vertical-align: middle;\n",
              "    }\n",
              "\n",
              "    .dataframe tbody tr th {\n",
              "        vertical-align: top;\n",
              "    }\n",
              "\n",
              "    .dataframe thead th {\n",
              "        text-align: right;\n",
              "    }\n",
              "</style>\n",
              "<table border=\"1\" class=\"dataframe\">\n",
              "  <thead>\n",
              "    <tr style=\"text-align: right;\">\n",
              "      <th></th>\n",
              "      <th>Date</th>\n",
              "      <th>SPX</th>\n",
              "      <th>GLD</th>\n",
              "      <th>USO</th>\n",
              "      <th>SLV</th>\n",
              "      <th>EUR/USD</th>\n",
              "    </tr>\n",
              "  </thead>\n",
              "  <tbody>\n",
              "    <tr>\n",
              "      <th>0</th>\n",
              "      <td>1/2/2008</td>\n",
              "      <td>1447.160034</td>\n",
              "      <td>84.860001</td>\n",
              "      <td>78.470001</td>\n",
              "      <td>15.180</td>\n",
              "      <td>1.471692</td>\n",
              "    </tr>\n",
              "    <tr>\n",
              "      <th>1</th>\n",
              "      <td>1/3/2008</td>\n",
              "      <td>1447.160034</td>\n",
              "      <td>85.570000</td>\n",
              "      <td>78.370003</td>\n",
              "      <td>15.285</td>\n",
              "      <td>1.474491</td>\n",
              "    </tr>\n",
              "    <tr>\n",
              "      <th>2</th>\n",
              "      <td>1/4/2008</td>\n",
              "      <td>1411.630005</td>\n",
              "      <td>85.129997</td>\n",
              "      <td>77.309998</td>\n",
              "      <td>15.167</td>\n",
              "      <td>1.475492</td>\n",
              "    </tr>\n",
              "    <tr>\n",
              "      <th>3</th>\n",
              "      <td>1/7/2008</td>\n",
              "      <td>1416.180054</td>\n",
              "      <td>84.769997</td>\n",
              "      <td>75.500000</td>\n",
              "      <td>15.053</td>\n",
              "      <td>1.468299</td>\n",
              "    </tr>\n",
              "    <tr>\n",
              "      <th>4</th>\n",
              "      <td>1/8/2008</td>\n",
              "      <td>1390.189941</td>\n",
              "      <td>86.779999</td>\n",
              "      <td>76.059998</td>\n",
              "      <td>15.590</td>\n",
              "      <td>1.557099</td>\n",
              "    </tr>\n",
              "  </tbody>\n",
              "</table>\n",
              "</div>"
            ],
            "text/plain": [
              "       Date          SPX        GLD        USO     SLV   EUR/USD\n",
              "0  1/2/2008  1447.160034  84.860001  78.470001  15.180  1.471692\n",
              "1  1/3/2008  1447.160034  85.570000  78.370003  15.285  1.474491\n",
              "2  1/4/2008  1411.630005  85.129997  77.309998  15.167  1.475492\n",
              "3  1/7/2008  1416.180054  84.769997  75.500000  15.053  1.468299\n",
              "4  1/8/2008  1390.189941  86.779999  76.059998  15.590  1.557099"
            ]
          },
          "metadata": {},
          "execution_count": 4
        }
      ]
    },
    {
      "cell_type": "code",
      "metadata": {
        "colab": {
          "base_uri": "https://localhost:8080/",
          "height": 206
        },
        "id": "f8Xh8S52-ID0",
        "outputId": "22b596ad-0663-4996-c757-3572f2e2035d"
      },
      "source": [
        "#print last five data frame\n",
        "gold_data.tail()"
      ],
      "execution_count": 5,
      "outputs": [
        {
          "output_type": "execute_result",
          "data": {
            "text/html": [
              "<div>\n",
              "<style scoped>\n",
              "    .dataframe tbody tr th:only-of-type {\n",
              "        vertical-align: middle;\n",
              "    }\n",
              "\n",
              "    .dataframe tbody tr th {\n",
              "        vertical-align: top;\n",
              "    }\n",
              "\n",
              "    .dataframe thead th {\n",
              "        text-align: right;\n",
              "    }\n",
              "</style>\n",
              "<table border=\"1\" class=\"dataframe\">\n",
              "  <thead>\n",
              "    <tr style=\"text-align: right;\">\n",
              "      <th></th>\n",
              "      <th>Date</th>\n",
              "      <th>SPX</th>\n",
              "      <th>GLD</th>\n",
              "      <th>USO</th>\n",
              "      <th>SLV</th>\n",
              "      <th>EUR/USD</th>\n",
              "    </tr>\n",
              "  </thead>\n",
              "  <tbody>\n",
              "    <tr>\n",
              "      <th>2285</th>\n",
              "      <td>5/8/2018</td>\n",
              "      <td>2671.919922</td>\n",
              "      <td>124.589996</td>\n",
              "      <td>14.0600</td>\n",
              "      <td>15.5100</td>\n",
              "      <td>1.186789</td>\n",
              "    </tr>\n",
              "    <tr>\n",
              "      <th>2286</th>\n",
              "      <td>5/9/2018</td>\n",
              "      <td>2697.790039</td>\n",
              "      <td>124.330002</td>\n",
              "      <td>14.3700</td>\n",
              "      <td>15.5300</td>\n",
              "      <td>1.184722</td>\n",
              "    </tr>\n",
              "    <tr>\n",
              "      <th>2287</th>\n",
              "      <td>5/10/2018</td>\n",
              "      <td>2723.070068</td>\n",
              "      <td>125.180000</td>\n",
              "      <td>14.4100</td>\n",
              "      <td>15.7400</td>\n",
              "      <td>1.191753</td>\n",
              "    </tr>\n",
              "    <tr>\n",
              "      <th>2288</th>\n",
              "      <td>5/14/2018</td>\n",
              "      <td>2730.129883</td>\n",
              "      <td>124.489998</td>\n",
              "      <td>14.3800</td>\n",
              "      <td>15.5600</td>\n",
              "      <td>1.193118</td>\n",
              "    </tr>\n",
              "    <tr>\n",
              "      <th>2289</th>\n",
              "      <td>5/16/2018</td>\n",
              "      <td>2725.780029</td>\n",
              "      <td>122.543800</td>\n",
              "      <td>14.4058</td>\n",
              "      <td>15.4542</td>\n",
              "      <td>1.182033</td>\n",
              "    </tr>\n",
              "  </tbody>\n",
              "</table>\n",
              "</div>"
            ],
            "text/plain": [
              "           Date          SPX         GLD      USO      SLV   EUR/USD\n",
              "2285   5/8/2018  2671.919922  124.589996  14.0600  15.5100  1.186789\n",
              "2286   5/9/2018  2697.790039  124.330002  14.3700  15.5300  1.184722\n",
              "2287  5/10/2018  2723.070068  125.180000  14.4100  15.7400  1.191753\n",
              "2288  5/14/2018  2730.129883  124.489998  14.3800  15.5600  1.193118\n",
              "2289  5/16/2018  2725.780029  122.543800  14.4058  15.4542  1.182033"
            ]
          },
          "metadata": {},
          "execution_count": 5
        }
      ]
    },
    {
      "cell_type": "code",
      "metadata": {
        "colab": {
          "base_uri": "https://localhost:8080/"
        },
        "id": "4_cYSM8u-L6N",
        "outputId": "c9f1c9e2-1042-461f-df69-b8402bbe9348"
      },
      "source": [
        "#number of rows and columns\n",
        "gold_data.shape"
      ],
      "execution_count": 6,
      "outputs": [
        {
          "output_type": "execute_result",
          "data": {
            "text/plain": [
              "(2290, 6)"
            ]
          },
          "metadata": {},
          "execution_count": 6
        }
      ]
    },
    {
      "cell_type": "code",
      "metadata": {
        "colab": {
          "base_uri": "https://localhost:8080/"
        },
        "id": "xUUPu6EV-N15",
        "outputId": "15f5b4d7-a093-4eac-9cd1-c6e1c6014ab8"
      },
      "source": [
        "#getting some basic info about data\n",
        "gold_data.info()"
      ],
      "execution_count": 7,
      "outputs": [
        {
          "output_type": "stream",
          "name": "stdout",
          "text": [
            "<class 'pandas.core.frame.DataFrame'>\n",
            "RangeIndex: 2290 entries, 0 to 2289\n",
            "Data columns (total 6 columns):\n",
            " #   Column   Non-Null Count  Dtype  \n",
            "---  ------   --------------  -----  \n",
            " 0   Date     2290 non-null   object \n",
            " 1   SPX      2290 non-null   float64\n",
            " 2   GLD      2290 non-null   float64\n",
            " 3   USO      2290 non-null   float64\n",
            " 4   SLV      2290 non-null   float64\n",
            " 5   EUR/USD  2290 non-null   float64\n",
            "dtypes: float64(5), object(1)\n",
            "memory usage: 107.5+ KB\n"
          ]
        }
      ]
    },
    {
      "cell_type": "code",
      "metadata": {
        "colab": {
          "base_uri": "https://localhost:8080/"
        },
        "id": "yWWD1A7s-UOB",
        "outputId": "f1d09255-2425-44ae-bb78-cf84da6304d2"
      },
      "source": [
        "#checking number of missing values\n",
        "gold_data.isnull().sum()"
      ],
      "execution_count": 8,
      "outputs": [
        {
          "output_type": "execute_result",
          "data": {
            "text/plain": [
              "Date       0\n",
              "SPX        0\n",
              "GLD        0\n",
              "USO        0\n",
              "SLV        0\n",
              "EUR/USD    0\n",
              "dtype: int64"
            ]
          },
          "metadata": {},
          "execution_count": 8
        }
      ]
    },
    {
      "cell_type": "code",
      "metadata": {
        "colab": {
          "base_uri": "https://localhost:8080/",
          "height": 300
        },
        "id": "IRMzGULt-YqW",
        "outputId": "d574532d-470f-473d-a6c8-9d51c0fdbd18"
      },
      "source": [
        "#getting the statistical measures of the data\n",
        "gold_data.describe()"
      ],
      "execution_count": 9,
      "outputs": [
        {
          "output_type": "execute_result",
          "data": {
            "text/html": [
              "<div>\n",
              "<style scoped>\n",
              "    .dataframe tbody tr th:only-of-type {\n",
              "        vertical-align: middle;\n",
              "    }\n",
              "\n",
              "    .dataframe tbody tr th {\n",
              "        vertical-align: top;\n",
              "    }\n",
              "\n",
              "    .dataframe thead th {\n",
              "        text-align: right;\n",
              "    }\n",
              "</style>\n",
              "<table border=\"1\" class=\"dataframe\">\n",
              "  <thead>\n",
              "    <tr style=\"text-align: right;\">\n",
              "      <th></th>\n",
              "      <th>SPX</th>\n",
              "      <th>GLD</th>\n",
              "      <th>USO</th>\n",
              "      <th>SLV</th>\n",
              "      <th>EUR/USD</th>\n",
              "    </tr>\n",
              "  </thead>\n",
              "  <tbody>\n",
              "    <tr>\n",
              "      <th>count</th>\n",
              "      <td>2290.000000</td>\n",
              "      <td>2290.000000</td>\n",
              "      <td>2290.000000</td>\n",
              "      <td>2290.000000</td>\n",
              "      <td>2290.000000</td>\n",
              "    </tr>\n",
              "    <tr>\n",
              "      <th>mean</th>\n",
              "      <td>1654.315776</td>\n",
              "      <td>122.732875</td>\n",
              "      <td>31.842221</td>\n",
              "      <td>20.084997</td>\n",
              "      <td>1.283653</td>\n",
              "    </tr>\n",
              "    <tr>\n",
              "      <th>std</th>\n",
              "      <td>519.111540</td>\n",
              "      <td>23.283346</td>\n",
              "      <td>19.523517</td>\n",
              "      <td>7.092566</td>\n",
              "      <td>0.131547</td>\n",
              "    </tr>\n",
              "    <tr>\n",
              "      <th>min</th>\n",
              "      <td>676.530029</td>\n",
              "      <td>70.000000</td>\n",
              "      <td>7.960000</td>\n",
              "      <td>8.850000</td>\n",
              "      <td>1.039047</td>\n",
              "    </tr>\n",
              "    <tr>\n",
              "      <th>25%</th>\n",
              "      <td>1239.874969</td>\n",
              "      <td>109.725000</td>\n",
              "      <td>14.380000</td>\n",
              "      <td>15.570000</td>\n",
              "      <td>1.171313</td>\n",
              "    </tr>\n",
              "    <tr>\n",
              "      <th>50%</th>\n",
              "      <td>1551.434998</td>\n",
              "      <td>120.580002</td>\n",
              "      <td>33.869999</td>\n",
              "      <td>17.268500</td>\n",
              "      <td>1.303296</td>\n",
              "    </tr>\n",
              "    <tr>\n",
              "      <th>75%</th>\n",
              "      <td>2073.010070</td>\n",
              "      <td>132.840004</td>\n",
              "      <td>37.827501</td>\n",
              "      <td>22.882499</td>\n",
              "      <td>1.369971</td>\n",
              "    </tr>\n",
              "    <tr>\n",
              "      <th>max</th>\n",
              "      <td>2872.870117</td>\n",
              "      <td>184.589996</td>\n",
              "      <td>117.480003</td>\n",
              "      <td>47.259998</td>\n",
              "      <td>1.598798</td>\n",
              "    </tr>\n",
              "  </tbody>\n",
              "</table>\n",
              "</div>"
            ],
            "text/plain": [
              "               SPX          GLD          USO          SLV      EUR/USD\n",
              "count  2290.000000  2290.000000  2290.000000  2290.000000  2290.000000\n",
              "mean   1654.315776   122.732875    31.842221    20.084997     1.283653\n",
              "std     519.111540    23.283346    19.523517     7.092566     0.131547\n",
              "min     676.530029    70.000000     7.960000     8.850000     1.039047\n",
              "25%    1239.874969   109.725000    14.380000    15.570000     1.171313\n",
              "50%    1551.434998   120.580002    33.869999    17.268500     1.303296\n",
              "75%    2073.010070   132.840004    37.827501    22.882499     1.369971\n",
              "max    2872.870117   184.589996   117.480003    47.259998     1.598798"
            ]
          },
          "metadata": {},
          "execution_count": 9
        }
      ]
    },
    {
      "cell_type": "markdown",
      "metadata": {
        "id": "NvukD8V4-fs8"
      },
      "source": [
        "correleation: 1.positive correlation 2.Negative correlation"
      ]
    },
    {
      "cell_type": "code",
      "metadata": {
        "id": "6lw1AHwd-cGO"
      },
      "source": [
        "correlation = gold_data.corr()"
      ],
      "execution_count": 10,
      "outputs": []
    },
    {
      "cell_type": "code",
      "metadata": {
        "colab": {
          "base_uri": "https://localhost:8080/",
          "height": 487
        },
        "id": "Si3sufYB-khO",
        "outputId": "3cd94259-6f67-4afd-f583-f2e8a3698129"
      },
      "source": [
        "#constructing a heatmap to understand the correlation\n",
        "plt.figure(figsize = (8,8))\n",
        "sns.heatmap(correlation, cbar=True, square=True, fmt='.1f',annot=True, annot_kws={'size':8}, cmap='Blues')"
      ],
      "execution_count": 11,
      "outputs": [
        {
          "output_type": "execute_result",
          "data": {
            "text/plain": [
              "<matplotlib.axes._subplots.AxesSubplot at 0x7f59d542ec90>"
            ]
          },
          "metadata": {},
          "execution_count": 11
        },
        {
          "output_type": "display_data",
          "data": {
            "image/png": "[encoded data removed]",
            "text/plain": [
              "<Figure size 576x576 with 2 Axes>"
            ]
          },
          "metadata": {
            "needs_background": "light"
          }
        }
      ]
    },
    {
      "cell_type": "code",
      "metadata": {
        "colab": {
          "base_uri": "https://localhost:8080/"
        },
        "id": "jKssQbX2-ojL",
        "outputId": "87fa7b24-cd79-4981-eb31-e50103e7dbb2"
      },
      "source": [
        "#correlation values of GLD\n",
        "print(correlation['GLD'])"
      ],
      "execution_count": 12,
      "outputs": [
        {
          "output_type": "stream",
          "name": "stdout",
          "text": [
            "SPX        0.049345\n",
            "GLD        1.000000\n",
            "USO       -0.186360\n",
            "SLV        0.866632\n",
            "EUR/USD   -0.024375\n",
            "Name: GLD, dtype: float64\n"
          ]
        }
      ]
    },
    {
      "cell_type": "code",
      "metadata": {
        "colab": {
          "base_uri": "https://localhost:8080/",
          "height": 386
        },
        "id": "ZTZ_suQB-vB2",
        "outputId": "1b31c7d4-d701-46fb-dfb1-e7f4cfa27732"
      },
      "source": [
        "#checking the distribution of the GLD price\n",
        "sns.displot(gold_data['GLD'],color='green')"
      ],
      "execution_count": 13,
      "outputs": [
        {
          "output_type": "execute_result",
          "data": {
            "text/plain": [
              "<seaborn.axisgrid.FacetGrid at 0x7f59cb9d1710>"
            ]
          },
          "metadata": {},
          "execution_count": 13
        },
        {
          "output_type": "display_data",
          "data": {
            "image/png": "[encoded data removed]",
            "text/plain": [
              "<Figure size 360x360 with 1 Axes>"
            ]
          },
          "metadata": {
            "needs_background": "light"
          }
        }
      ]
    },
    {
      "cell_type": "code",
      "metadata": {
        "colab": {
          "base_uri": "https://localhost:8080/",
          "height": 621
        },
        "id": "dJB7HbJCEqWJ",
        "outputId": "2788862b-8246-465d-ae3e-c2e099608844"
      },
      "source": [
        "gold_data.hist(figsize=(10,8))"
      ],
      "execution_count": 55,
      "outputs": [
        {
          "output_type": "execute_result",
          "data": {
            "text/plain": [
              "array([[<matplotlib.axes._subplots.AxesSubplot object at 0x7f59c2cfab10>,\n",
              "        <matplotlib.axes._subplots.AxesSubplot object at 0x7f59c2d13b50>],\n",
              "       [<matplotlib.axes._subplots.AxesSubplot object at 0x7f59c2c70ad0>,\n",
              "        <matplotlib.axes._subplots.AxesSubplot object at 0x7f59c2c331d0>],\n",
              "       [<matplotlib.axes._subplots.AxesSubplot object at 0x7f59c2be8850>,\n",
              "        <matplotlib.axes._subplots.AxesSubplot object at 0x7f59c2c1ded0>]],\n",
              "      dtype=object)"
            ]
          },
          "metadata": {},
          "execution_count": 55
        },
        {
          "output_type": "display_data",
          "data": {
            "image/png": "[encoded data removed]",
            "text/plain": [
              "<Figure size 720x576 with 6 Axes>"
            ]
          },
          "metadata": {
            "needs_background": "light"
          }
        }
      ]
    },
    {
      "cell_type": "code",
      "metadata": {
        "id": "7WonqnQ0FOED"
      },
      "source": [
        "#Creating a year column just for some data visualization\n",
        "gold_data['Year'] =gold_data['Date'].apply(lambda x: x.year)"
      ],
      "execution_count": 62,
      "outputs": []
    },
    {
      "cell_type": "code",
      "metadata": {
        "colab": {
          "base_uri": "https://localhost:8080/",
          "height": 296
        },
        "id": "f3_rwaQqFR3A",
        "outputId": "dbd9106f-b329-4776-ad92-eaa80dc8e03d"
      },
      "source": [
        "#We can see how the maximum gold value changed from 2008 to 2018\n",
        "gold_data.groupby('Year').max()['GLD'].plot()"
      ],
      "execution_count": 63,
      "outputs": [
        {
          "output_type": "execute_result",
          "data": {
            "text/plain": [
              "<matplotlib.axes._subplots.AxesSubplot at 0x7f59c2861810>"
            ]
          },
          "metadata": {},
          "execution_count": 63
        },
        {
          "output_type": "display_data",
          "data": {
            "image/png": "[encoded data removed]",
            "text/plain": [
              "<Figure size 432x288 with 1 Axes>"
            ]
          },
          "metadata": {
            "needs_background": "light"
          }
        }
      ]
    },
    {
      "cell_type": "code",
      "metadata": {
        "colab": {
          "base_uri": "https://localhost:8080/",
          "height": 296
        },
        "id": "TcCcB_ajFTzH",
        "outputId": "edac898d-1a98-4a22-a9d1-b612db176633"
      },
      "source": [
        "#We can see how the maximum gold value changed from 2008 to 2018\n",
        "gold_data.groupby('Year').max()['SLV'].plot()"
      ],
      "execution_count": 64,
      "outputs": [
        {
          "output_type": "execute_result",
          "data": {
            "text/plain": [
              "<matplotlib.axes._subplots.AxesSubplot at 0x7f59c27b9950>"
            ]
          },
          "metadata": {},
          "execution_count": 64
        },
        {
          "output_type": "display_data",
          "data": {
            "image/png": "[encoded data removed]",
            "text/plain": [
              "<Figure size 432x288 with 1 Axes>"
            ]
          },
          "metadata": {
            "needs_background": "light"
          }
        }
      ]
    },
    {
      "cell_type": "markdown",
      "metadata": {
        "id": "iaRLz6ha-0HG"
      },
      "source": [
        "splitting the features and target (gold and date)"
      ]
    },
    {
      "cell_type": "code",
      "metadata": {
        "id": "4aOSy92q-w5W"
      },
      "source": [
        "X=gold_data.drop(['Date','GLD'],axis=1)\n",
        "Y=gold_data['GLD']"
      ],
      "execution_count": 14,
      "outputs": []
    },
    {
      "cell_type": "code",
      "metadata": {
        "colab": {
          "base_uri": "https://localhost:8080/"
        },
        "id": "z8qyHKTP-8Yz",
        "outputId": "0a29278b-9280-4ca8-d611-5f4b3b622f17"
      },
      "source": [
        "print(X)"
      ],
      "execution_count": 15,
      "outputs": [
        {
          "output_type": "stream",
          "name": "stdout",
          "text": [
            "              SPX        USO      SLV   EUR/USD\n",
            "0     1447.160034  78.470001  15.1800  1.471692\n",
            "1     1447.160034  78.370003  15.2850  1.474491\n",
            "2     1411.630005  77.309998  15.1670  1.475492\n",
            "3     1416.180054  75.500000  15.0530  1.468299\n",
            "4     1390.189941  76.059998  15.5900  1.557099\n",
            "...           ...        ...      ...       ...\n",
            "2285  2671.919922  14.060000  15.5100  1.186789\n",
            "2286  2697.790039  14.370000  15.5300  1.184722\n",
            "2287  2723.070068  14.410000  15.7400  1.191753\n",
            "2288  2730.129883  14.380000  15.5600  1.193118\n",
            "2289  2725.780029  14.405800  15.4542  1.182033\n",
            "\n",
            "[2290 rows x 4 columns]\n"
          ]
        }
      ]
    },
    {
      "cell_type": "code",
      "metadata": {
        "colab": {
          "base_uri": "https://localhost:8080/"
        },
        "id": "cX9zb0XN_B0L",
        "outputId": "be438628-412a-46db-91ee-682d89ad3bd2"
      },
      "source": [
        "print(Y)"
      ],
      "execution_count": 16,
      "outputs": [
        {
          "output_type": "stream",
          "name": "stdout",
          "text": [
            "0        84.860001\n",
            "1        85.570000\n",
            "2        85.129997\n",
            "3        84.769997\n",
            "4        86.779999\n",
            "           ...    \n",
            "2285    124.589996\n",
            "2286    124.330002\n",
            "2287    125.180000\n",
            "2288    124.489998\n",
            "2289    122.543800\n",
            "Name: GLD, Length: 2290, dtype: float64\n"
          ]
        }
      ]
    },
    {
      "cell_type": "markdown",
      "metadata": {
        "id": "3cJor6sy_GAW"
      },
      "source": [
        "splitting into training data and test data "
      ]
    },
    {
      "cell_type": "code",
      "metadata": {
        "id": "XIvvTF44_HIV"
      },
      "source": [
        "X_train, X_test, Y_train, Y_test = train_test_split(X,Y, test_size = 0.2, random_state=2)"
      ],
      "execution_count": 19,
      "outputs": []
    },
    {
      "cell_type": "markdown",
      "metadata": {
        "id": "hRZxO_aT_a5o"
      },
      "source": [
        "model Training: Random forest Regressor "
      ]
    },
    {
      "cell_type": "code",
      "metadata": {
        "id": "lFJjxX_5_L60"
      },
      "source": [
        "regressor = RandomForestRegressor(n_estimators=100)"
      ],
      "execution_count": 20,
      "outputs": []
    },
    {
      "cell_type": "code",
      "metadata": {
        "colab": {
          "base_uri": "https://localhost:8080/"
        },
        "id": "w1QQh9kl_hj4",
        "outputId": "2e0ebc44-feda-4627-cb73-3e91719b41b1"
      },
      "source": [
        "#training the model\n",
        "regressor.fit(X_train,Y_train)"
      ],
      "execution_count": 21,
      "outputs": [
        {
          "output_type": "execute_result",
          "data": {
            "text/plain": [
              "RandomForestRegressor(bootstrap=True, ccp_alpha=0.0, criterion='mse',\n",
              "                      max_depth=None, max_features='auto', max_leaf_nodes=None,\n",
              "                      max_samples=None, min_impurity_decrease=0.0,\n",
              "                      min_impurity_split=None, min_samples_leaf=1,\n",
              "                      min_samples_split=2, min_weight_fraction_leaf=0.0,\n",
              "                      n_estimators=100, n_jobs=None, oob_score=False,\n",
              "                      random_state=None, verbose=0, warm_start=False)"
            ]
          },
          "metadata": {},
          "execution_count": 21
        }
      ]
    },
    {
      "cell_type": "markdown",
      "metadata": {
        "id": "TGzrKLni_oel"
      },
      "source": [
        "Model evaluation"
      ]
    },
    {
      "cell_type": "code",
      "metadata": {
        "id": "Ygh2Kmbu_m8F"
      },
      "source": [
        "#prediction on Test Data\n",
        "test_data_prediction=regressor.predict(X_test)"
      ],
      "execution_count": 22,
      "outputs": []
    },
    {
      "cell_type": "code",
      "metadata": {
        "colab": {
          "base_uri": "https://localhost:8080/"
        },
        "id": "A6Dv_d9F_rqO",
        "outputId": "53d113c7-b977-4dfe-d756-aafc50a56cb3"
      },
      "source": [
        "print(test_data_prediction)"
      ],
      "execution_count": 23,
      "outputs": [
        {
          "output_type": "stream",
          "name": "stdout",
          "text": [
            "[168.86099963  81.89369996 116.35350055 127.5238006  120.78680113\n",
            " 154.70719771 150.85549936 126.05760044 117.47429887 126.08200062\n",
            " 116.78320102 171.9118005  141.76029851 167.74959881 115.0128003\n",
            " 117.57540053 138.94790344 170.57160116 159.90200367 162.16150002\n",
            " 154.98210043 125.24880025 176.62659954 157.3202039  125.25850061\n",
            "  93.87779971  77.72130039 120.48239991 119.1243995  167.55419906\n",
            "  88.01990017 125.28040021  91.22750083 117.69040029 121.1781992\n",
            " 136.14650076 115.59040129 115.14740045 147.55629973 107.29230112\n",
            " 104.56920253  87.22889768 126.44020038 117.98310007 153.55699908\n",
            " 119.51600022 108.31490016 108.09619812  93.21490047 127.17169777\n",
            "  74.56530043 113.57269881 121.41160029 111.2306991  118.92409921\n",
            " 121.13649944 159.98279977 169.20160092 146.90139677  85.88909853\n",
            "  94.37770019  86.86229925  90.53730009 119.11990043 126.43080059\n",
            " 127.53620028 169.62859982 122.35859942 117.251899    98.41690015\n",
            " 167.93900165 143.36029865 132.10420301 121.27380219 120.34599963\n",
            " 119.65740066 114.44210177 118.42400039 107.21760081 128.04780057\n",
            " 113.82159983 106.92359974 116.81260028 119.70069849  89.05190077\n",
            "  88.16889871 147.26170223 127.25289971 113.33430025 110.20139847\n",
            " 108.13809902  77.81449903 170.05410199 114.12739935 121.62639917\n",
            " 127.8831014  154.91479786  91.78919986 135.55440141 159.13300345\n",
            " 124.85410088 125.43570087 130.38060108 114.74410124 119.7420997\n",
            "  92.11109982 110.20669861 166.47989959 153.99489941 114.22839975\n",
            " 106.74270131  79.56039994 113.29840049 125.7884005  107.27349937\n",
            " 119.39780116 155.75230247 160.03099852 120.20599997 133.97290321\n",
            " 101.6096999  117.53319782 119.32300012 112.96640074 102.79999935\n",
            " 160.37939761  98.74250035 147.87809864 125.69910114 169.99339907\n",
            " 125.83089835 127.27929773 127.44570165 113.78419948 112.92470059\n",
            " 123.7188989  102.15179909  89.23809986 124.3328996  101.49039944\n",
            " 107.30259939 113.31640101 117.4776005   99.40759945 121.68390061\n",
            " 163.69019931  87.41759858 106.91730014 117.20730084 127.76990127\n",
            " 124.08460083  80.60399936 120.12520078 157.80699787  87.91829962\n",
            " 110.27909962 118.72819922 172.38289893 102.97629892 105.39310067\n",
            " 122.09260019 158.47309707  87.6833986   92.92890032 112.51840028\n",
            " 177.77290033 114.58080017 119.3987003   94.64410107 125.65390045\n",
            " 165.88330118 114.90660081 116.66080138  88.23419873 148.82040036\n",
            " 120.1729996   89.59419982 112.12159991 117.30330057 118.61480129\n",
            "  88.12299927  94.10310021 117.0491004  118.43810162 120.11510053\n",
            " 126.75749813 121.77799975 150.83380017 165.90290011 118.5517997\n",
            " 120.54300127 149.97740052 118.38069916 172.03859897 105.48219936\n",
            " 104.96620068 148.94510069 113.90950054 124.84190089 147.36419952\n",
            " 119.69560115 115.49050029 112.45129989 113.36880236 141.70310097\n",
            " 117.70569788 102.85590022 115.78550109 103.68240167  98.87480015\n",
            " 117.30340079  90.5785002   91.77180006 153.30029912 102.74019983\n",
            " 154.69150064 114.40100166 138.27420133  90.04989833 115.56949952\n",
            " 114.38699975 123.13050041 121.59080038 165.34450203  92.82059958\n",
            " 135.74410113 121.33969926 120.5985006  104.7648006  142.98910271\n",
            " 121.68319907 116.55170031 113.40580063 127.1429971  122.89359936\n",
            " 125.74359939 121.22700023  86.84179884 132.57950131 143.35430206\n",
            "  92.6323997  158.87630073 158.90640298 126.40099929 165.39449908\n",
            " 108.75709939 110.123301   103.69319845  94.37630055 127.87550285\n",
            " 107.21550043 161.2273006  121.64310034 132.06919998 130.42370136\n",
            " 159.93279888  90.03139864 176.08140192 127.77750045 126.94379786\n",
            "  86.46119904 124.50449923 150.12319697  89.67620012 107.07869997\n",
            " 108.85649988  83.3515992  135.79170004 154.87000243 137.92680285\n",
            "  74.00230033 152.21710115 125.92800041 126.7435003  127.52619927\n",
            " 108.7263997  156.29360037 114.48170134 116.65080152 125.27649931\n",
            " 153.92780178 121.30319984 156.4670983   92.95130065 125.56210078\n",
            " 125.81470081  87.94300076  92.17109924 126.19239955 128.48730328\n",
            " 113.16660058 117.53069727 120.83940047 127.07439732 119.57010098\n",
            " 135.65580065  93.94629977 119.72820045 113.35730112  94.31489931\n",
            " 108.75169958  87.29419923 109.25559921  89.61969978  92.50220022\n",
            " 131.50210206 162.55700066  89.40479982 119.69170094 133.47080175\n",
            " 123.96440012 128.41440184 101.93999856  89.00259875 131.67120128\n",
            " 119.34670036 108.36369995 168.55420096 115.06290041  86.65939872\n",
            " 118.79500067  90.92889964 162.06830081 116.48780045 121.4296999\n",
            " 160.18619749 119.97959942 112.99849933 108.41029853 126.73829959\n",
            "  75.87240056 102.97049997 127.67480204 121.77169912  92.51599996\n",
            " 132.15070104 118.39860114 116.21779951 154.87720225 159.29060075\n",
            " 110.20449911 154.55059833 119.32310049 160.81130007 118.28240038\n",
            " 157.65770013 115.18479911 116.63140017 149.53779936 114.96290059\n",
            " 125.62939928 166.01119892 117.74440015 125.02489914 153.23310331\n",
            " 153.56790232 132.42070039 114.88750019 121.26260216 125.29000092\n",
            "  89.88040033 123.06620034 154.72060238 111.84000047 106.88110015\n",
            " 162.09050082 118.66609987 165.64480038 134.13670081 115.02139974\n",
            " 153.10339962 168.64549973 114.43919969 114.0726011  158.70479818\n",
            "  85.2728986  127.00730098 127.98460045 128.62899947 124.30950056\n",
            " 124.08720102  90.44560044 153.18129936  97.09059987 136.87889984\n",
            "  89.0297991  106.98079998 115.1282005  112.48710059 124.02489937\n",
            "  91.45159845 125.36610137 162.46249843 119.88349862 164.7696012\n",
            " 126.86669778 112.43689993 127.50269893  94.87589872  90.92279991\n",
            " 102.97749916 120.78450024  83.3846996  126.13130009 160.55000464\n",
            " 117.37930082 118.10989959 120.02709984 122.70529956 120.05070138\n",
            " 121.45769979 118.14780037 107.18429992 148.4344999  126.33569801\n",
            " 115.75170104  73.78460017 127.86930104 154.03670017 122.1226997\n",
            " 125.47980073  88.79180054 102.95249829 124.07750054 120.22500051\n",
            "  73.35930077 151.60209917 121.15000056 104.73499962  86.43709769\n",
            " 115.25569896 172.10609802 119.77000026 159.58709882 113.2783996\n",
            " 120.7020004  118.80110074  95.87529992 118.75610005 125.86580096\n",
            " 118.4827997   95.77800034 154.21370198 121.90999999 147.87290007\n",
            " 159.67290243 113.7179004  122.60199917 149.477698   127.43360053\n",
            " 165.92980059 135.91000034 119.89099963 167.54049874 108.35159926\n",
            " 121.70139851 138.17540102 106.16769892]\n"
          ]
        }
      ]
    },
    {
      "cell_type": "code",
      "metadata": {
        "colab": {
          "base_uri": "https://localhost:8080/"
        },
        "id": "e8RgTErT_vLZ",
        "outputId": "2057f062-5878-4417-c47e-8e164cbf226d"
      },
      "source": [
        "#R square error\n",
        "error_score=metrics.r2_score(Y_test, test_data_prediction)\n",
        "print(\"R square error:\",error_score)"
      ],
      "execution_count": 24,
      "outputs": [
        {
          "output_type": "stream",
          "name": "stdout",
          "text": [
            "R square error: 0.9894433893045417\n"
          ]
        }
      ]
    },
    {
      "cell_type": "markdown",
      "metadata": {
        "id": "hD5R5Fq__2Fq"
      },
      "source": [
        "compare the actual value and predicted values in a plot "
      ]
    },
    {
      "cell_type": "code",
      "metadata": {
        "id": "LpVd7PGr_1j1"
      },
      "source": [
        "#Y_test to list convertion so we dont get errors \n",
        "Y_test=list(Y_test)"
      ],
      "execution_count": 25,
      "outputs": []
    },
    {
      "cell_type": "code",
      "metadata": {
        "colab": {
          "base_uri": "https://localhost:8080/",
          "height": 295
        },
        "id": "ek-B7y0J_9by",
        "outputId": "a11c6ae5-0572-4252-f534-15a704530512"
      },
      "source": [
        "plt.plot(Y_test, color='blue', label='Actual value')\n",
        "plt.plot(test_data_prediction, color='green',label='predicted value')\n",
        "plt.title('Actual price vs predicted price')\n",
        "plt.xlabel('Number of values')\n",
        "plt.ylabel('GLD price')\n",
        "plt.legend()\n",
        "plt.show()"
      ],
      "execution_count": 26,
      "outputs": [
        {
          "output_type": "display_data",
          "data": {
            "image/png": "[encoded data removed]",
            "text/plain": [
              "<Figure size 432x288 with 1 Axes>"
            ]
          },
          "metadata": {
            "needs_background": "light"
          }
        }
      ]
    },
    {
      "cell_type": "markdown",
      "metadata": {
        "id": "aHzJl_tXAAij"
      },
      "source": [
        "silver"
      ]
    },
    {
      "cell_type": "code",
      "metadata": {
        "id": "ggqGofWyADPu"
      },
      "source": [
        ""
      ],
      "execution_count": null,
      "outputs": []
    },
    {
      "cell_type": "code",
      "metadata": {
        "id": "Odn7sAYgvl7x"
      },
      "source": [
        "R=gold_data.drop(['Date','SLV'],axis=1)\n",
        "A=gold_data['SLV']"
      ],
      "execution_count": 27,
      "outputs": []
    },
    {
      "cell_type": "code",
      "metadata": {
        "colab": {
          "base_uri": "https://localhost:8080/"
        },
        "id": "uNlMaoNiAcq-",
        "outputId": "15590c00-7526-4c60-dde0-dcf6ec66b4d9"
      },
      "source": [
        "print(R)"
      ],
      "execution_count": 29,
      "outputs": [
        {
          "output_type": "stream",
          "name": "stdout",
          "text": [
            "              SPX         GLD        USO   EUR/USD\n",
            "0     1447.160034   84.860001  78.470001  1.471692\n",
            "1     1447.160034   85.570000  78.370003  1.474491\n",
            "2     1411.630005   85.129997  77.309998  1.475492\n",
            "3     1416.180054   84.769997  75.500000  1.468299\n",
            "4     1390.189941   86.779999  76.059998  1.557099\n",
            "...           ...         ...        ...       ...\n",
            "2285  2671.919922  124.589996  14.060000  1.186789\n",
            "2286  2697.790039  124.330002  14.370000  1.184722\n",
            "2287  2723.070068  125.180000  14.410000  1.191753\n",
            "2288  2730.129883  124.489998  14.380000  1.193118\n",
            "2289  2725.780029  122.543800  14.405800  1.182033\n",
            "\n",
            "[2290 rows x 4 columns]\n"
          ]
        }
      ]
    },
    {
      "cell_type": "code",
      "metadata": {
        "colab": {
          "base_uri": "https://localhost:8080/"
        },
        "id": "dSrW7JUsAkNl",
        "outputId": "9f5c0c95-d181-4c0f-ddec-f2f49b6fa3c1"
      },
      "source": [
        "print(A)"
      ],
      "execution_count": 30,
      "outputs": [
        {
          "output_type": "stream",
          "name": "stdout",
          "text": [
            "0       15.1800\n",
            "1       15.2850\n",
            "2       15.1670\n",
            "3       15.0530\n",
            "4       15.5900\n",
            "         ...   \n",
            "2285    15.5100\n",
            "2286    15.5300\n",
            "2287    15.7400\n",
            "2288    15.5600\n",
            "2289    15.4542\n",
            "Name: SLV, Length: 2290, dtype: float64\n"
          ]
        }
      ]
    },
    {
      "cell_type": "code",
      "metadata": {
        "id": "QHSjtpFTAsWm"
      },
      "source": [
        "R_train, R_test, A_train, A_test = train_test_split(R,A, test_size = 0.2, random_state=2)"
      ],
      "execution_count": 45,
      "outputs": []
    },
    {
      "cell_type": "markdown",
      "metadata": {
        "id": "vhehFEMkA2he"
      },
      "source": [
        "model Training: Random forest Regressor "
      ]
    },
    {
      "cell_type": "code",
      "metadata": {
        "id": "oaA01O5dA3V6"
      },
      "source": [
        "regressor1 = RandomForestRegressor(n_estimators=100)"
      ],
      "execution_count": 46,
      "outputs": []
    },
    {
      "cell_type": "code",
      "metadata": {
        "colab": {
          "base_uri": "https://localhost:8080/"
        },
        "id": "PK0seGDOA73p",
        "outputId": "f68454f7-b6f1-4305-fbc1-54a3acb0fd37"
      },
      "source": [
        "#training the model\n",
        "regressor1.fit(R_train,A_train)"
      ],
      "execution_count": 47,
      "outputs": [
        {
          "output_type": "execute_result",
          "data": {
            "text/plain": [
              "RandomForestRegressor(bootstrap=True, ccp_alpha=0.0, criterion='mse',\n",
              "                      max_depth=None, max_features='auto', max_leaf_nodes=None,\n",
              "                      max_samples=None, min_impurity_decrease=0.0,\n",
              "                      min_impurity_split=None, min_samples_leaf=1,\n",
              "                      min_samples_split=2, min_weight_fraction_leaf=0.0,\n",
              "                      n_estimators=100, n_jobs=None, oob_score=False,\n",
              "                      random_state=None, verbose=0, warm_start=False)"
            ]
          },
          "metadata": {},
          "execution_count": 47
        }
      ]
    },
    {
      "cell_type": "markdown",
      "metadata": {
        "id": "HKE-fn8cBDT1"
      },
      "source": [
        "Model evaluation"
      ]
    },
    {
      "cell_type": "code",
      "metadata": {
        "id": "xqIcqdwaA_xV"
      },
      "source": [
        "#prediction on Test Data\n",
        "test_data_prediction1=regressor1.predict(R_test)"
      ],
      "execution_count": 50,
      "outputs": []
    },
    {
      "cell_type": "code",
      "metadata": {
        "colab": {
          "base_uri": "https://localhost:8080/"
        },
        "id": "fBh0H4eLDJsr",
        "outputId": "24210f15-633e-4aa6-d68f-146a9bc2f280"
      },
      "source": [
        "print(test_data_prediction1)"
      ],
      "execution_count": 49,
      "outputs": [
        {
          "output_type": "stream",
          "name": "stdout",
          "text": [
            "[169.7611003  147.11259793 104.5468988  103.20479932 102.85829957\n",
            " 166.87169879 142.55119974 103.20479932 165.62429915 168.00059982\n",
            " 154.99929843 143.25310045 166.56489886 167.43139987 120.87089965\n",
            " 102.79429944 164.11900085 167.44839956 167.91600016 141.79860104\n",
            " 167.51089958 167.75930013 145.94940036 143.42269936 103.20479932\n",
            " 145.63239985 149.72969875 146.81980074 160.96780085 163.16059943\n",
            " 147.06160091 103.20479932 150.34359928 104.6239986  167.11229951\n",
            " 167.31780001 121.89500015 112.6653998  166.99119968 111.76620022\n",
            " 144.94800114 149.59210066 103.20479932 166.57940003 167.5915996\n",
            " 159.44659872 104.60389868 112.60159999 149.59210066 154.55420016\n",
            " 167.72199966 128.8871017  103.4692992  117.17849988 103.20479932\n",
            " 167.51089958 168.4744     145.3852003  147.09159761 149.59210066\n",
            " 149.59210066 148.82770046 136.19870101 103.20479932 103.20479932\n",
            " 147.90700062 169.84989975 103.20479932 161.42040046 149.67540035\n",
            " 167.64070008 145.89989747 145.02580089 163.64049975 167.47669943\n",
            " 164.10309895 124.00999921 103.16459935 110.71859987 103.2007993\n",
            " 102.88519952 147.63109998 147.95140079 102.45509985 149.59210066\n",
            " 148.94510069 149.23740175 148.12070013 102.88449944 149.73750056\n",
            " 164.99270047 146.57610012 170.0397003  128.88830173 103.20479932\n",
            " 103.20479932 168.43230009 147.75109883 144.50950139 167.36639929\n",
            " 146.61800052 103.21059934 144.28460195 124.72549932 103.12709942\n",
            " 145.23649959 167.8673001  167.8828998  143.76590166 128.55500232\n",
            " 145.84910137 166.52900037 128.96310179 103.20479932 103.82439918\n",
            " 103.18759946 162.43269913 167.61379929 103.20479932 146.6711011\n",
            " 150.5929008  166.99429935 103.10519938 127.71130129 102.74819951\n",
            " 167.06209885 149.54560021 141.72570011 103.19759931 165.6563005\n",
            " 166.33819991 154.28170016 103.20479932 129.01510169 102.45509985\n",
            " 167.83849886 102.79099944 150.88300036 168.05029997 149.77860042\n",
            " 147.06019947 102.45869986 102.86199917 149.28259973 103.21059934\n",
            " 167.40309928 149.59210066 103.80369885 121.75130099 103.2007993\n",
            " 103.20479932 159.01230118 102.86199917 164.90610005 143.84080202\n",
            " 119.70050049 167.74679924 145.87630001 102.80109973 115.2407001\n",
            " 102.65679884 164.55229984 143.48990299 147.95969979 102.88449944\n",
            " 147.30460041 102.80089965 103.11989939 146.88519998 147.65560034\n",
            " 167.17940018 125.40219954 120.95140095 148.78100047 148.82040036\n",
            " 167.11229951 149.59210066 166.4605003  166.57940003 102.8915993\n",
            " 149.59210066 146.55090008 128.89970182 166.57470002 103.10319946\n",
            " 168.00239989 164.31099893 167.21339953 169.22649963 103.2007993\n",
            " 167.51089958 167.13279966 167.11229951 144.81690066 149.71730066\n",
            " 114.88100108 148.93030089 102.79889968 103.20479932 144.44019889\n",
            " 166.56949952 121.75360142 160.45760079 160.32260125 167.44369952\n",
            " 160.90950054 102.72039948 125.4262999  145.02620169 149.67070033\n",
            " 103.20479932 146.43700055 148.62250057 167.51089958 102.68649999\n",
            " 169.02710009 155.0965991  141.52770103 150.34359928 151.11079963\n",
            " 103.11799939 117.30490011 166.26169999 162.05339944 149.59210066\n",
            " 146.11060113 103.20479932 103.28629926 103.81529894 167.16099948\n",
            " 153.55960023 103.20479932 102.45509985 166.33819991 167.47669943\n",
            " 103.20479932 103.20479932 149.59210066 168.20779983 166.70789979\n",
            " 148.39209905 142.05819934 167.66069952 167.77499901 169.58809983\n",
            " 102.45869986 103.34479937 103.80089879 142.40799892 103.20859936\n",
            " 145.30350081 143.49049996 103.21059934 167.6969999  144.505602\n",
            " 168.08869993 147.10049801 149.26249991 143.83380087 166.60899979\n",
            " 149.59210066 166.20329987 145.23639964 149.59210066 103.80099881\n",
            " 152.66120083 151.10929874 164.88950092 166.86759935 167.24029969\n",
            " 167.72199966 166.93549898 165.53459918 103.20479932 103.44099941\n",
            " 146.81730112 166.16750035 125.94670102 102.87849939 168.47089967\n",
            " 167.38129902 103.20479932 167.05499947 146.10120002 103.20479932\n",
            " 167.54419943 149.61860061 146.51550063 166.33639984 167.54739935\n",
            " 128.8871017  162.37869949 103.4692992  166.33819991 167.51089958\n",
            " 167.47020006 146.93569982 103.20479932 150.2378007  148.16830017\n",
            " 145.86780129 151.06969867 166.45790036 159.27140195 148.97690063\n",
            " 144.91930124 168.27379948 145.0790012  103.20479932 167.47219882\n",
            " 103.09309943 167.83000005 102.68689944 142.89560153 141.56740041\n",
            " 167.47349951 104.57799863 145.08850154 123.55609947 149.59210066\n",
            " 102.88519952 144.554202   167.40539937 103.20479932 103.20479932\n",
            " 167.33799914 163.73499973 129.3270017  167.13030029 103.20479932\n",
            " 167.71789962 103.17169948 103.01809934 103.20479932 149.59210066\n",
            " 160.92700114 121.48890146 102.88359921 165.65769912 167.64069963\n",
            " 114.55300065 149.69800051 102.88359921 166.79379882 102.3293002\n",
            " 168.10519962 150.79329962 102.83399937 143.3989988  123.84569943\n",
            " 103.20479932 144.0054018  102.67659905 103.2007993  164.79400074\n",
            " 169.13819963 168.01419929 124.41180006 163.7056998  103.11569935\n",
            " 143.43610111 121.49110137 167.57459948 154.59359909 104.07979837\n",
            " 143.6479018  103.08749946 161.88289999 145.59970028 102.88519952\n",
            " 163.51589935 163.13189926 104.44099866 123.64249949 161.31289963\n",
            " 147.98989965 103.47089947 103.19759931 147.23880008 103.20479932\n",
            " 119.3235006  142.79770177 163.92599963 147.21349804 168.24870011\n",
            " 149.59210066 148.07849974 122.34450067 102.45509985 168.0095995\n",
            " 146.17950071 104.84630022 167.62950005 165.6559998  162.71679914\n",
            " 166.61279998 159.64240042 147.46870016 140.71699817 137.28380195\n",
            " 149.7239004  102.69709885 168.00400008 103.21059934 168.24430021\n",
            " 103.10319946 103.83909881 146.51470079 167.5815995  103.19759931\n",
            " 103.20479932 103.2007993  145.53299979 148.46799966 161.90229965\n",
            " 121.55040098 167.5948996  103.25109919 167.8262996  146.51470079\n",
            " 103.20479932 138.48940107 103.39049911 146.61950061 165.15889897\n",
            " 167.72199966 167.12939898 103.48999921 110.44490014 144.92080133\n",
            " 104.56839882 167.29869889 102.86199917 168.05979854 129.13420131\n",
            " 122.94639915 119.85560072 149.59210066 119.2471005  103.19759931\n",
            " 103.20479932 141.84839857 167.23719988 103.20479932 145.67230001\n",
            " 167.36999929 151.00360116 103.10319946 143.01299941 167.70489998\n",
            " 163.39989942 167.94140046 103.1036994  169.32290016 110.99899955\n",
            " 102.80089965 167.01359958 149.81850047]\n"
          ]
        }
      ]
    },
    {
      "cell_type": "code",
      "metadata": {
        "colab": {
          "base_uri": "https://localhost:8080/"
        },
        "id": "LR4qDO7dDS5d",
        "outputId": "20db41d3-4068-4fa8-f689-1f36346c88cf"
      },
      "source": [
        "#R square error\n",
        "error_score=metrics.r2_score(A_test, test_data_prediction1)\n",
        "print(\"R square error:\",error_score)"
      ],
      "execution_count": 51,
      "outputs": [
        {
          "output_type": "stream",
          "name": "stdout",
          "text": [
            "R square error: 0.9939146218381676\n"
          ]
        }
      ]
    },
    {
      "cell_type": "markdown",
      "metadata": {
        "id": "YSiPLbzKDetJ"
      },
      "source": [
        "compare the actual value and predicted values in a plot "
      ]
    },
    {
      "cell_type": "code",
      "metadata": {
        "id": "z2zMarMlDdyS"
      },
      "source": [
        "#A_test to list convertion so we dont get errors \n",
        "A_test=list(A_test)"
      ],
      "execution_count": 52,
      "outputs": []
    },
    {
      "cell_type": "code",
      "metadata": {
        "colab": {
          "base_uri": "https://localhost:8080/",
          "height": 295
        },
        "id": "sy99PmZgDo8X",
        "outputId": "f1ffe2ea-2035-41aa-9bf5-95379c4a4147"
      },
      "source": [
        "plt.plot(A_test, color='blue', label='Actual value')\n",
        "plt.plot(test_data_prediction1, color='green',label='predicted value')\n",
        "plt.title('Actual price vs predicted price')\n",
        "plt.ylabel('Number of values')\n",
        "plt.xlabel('SLV price')\n",
        "plt.legend()\n",
        "plt.show()"
      ],
      "execution_count": 54,
      "outputs": [
        {
          "output_type": "display_data",
          "data": {
            "image/png": "[encoded data removed]",
            "text/plain": [
              "<Figure size 432x288 with 1 Axes>"
            ]
          },
          "metadata": {
            "needs_background": "light"
          }
        }
      ]
    }
  ]
}